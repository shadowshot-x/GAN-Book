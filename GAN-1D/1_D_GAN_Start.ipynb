{
  "nbformat": 4,
  "nbformat_minor": 0,
  "metadata": {
    "colab": {
      "name": "1-D_GAN_Start.ipynb",
      "provenance": [],
      "collapsed_sections": []
    },
    "kernelspec": {
      "name": "python3",
      "display_name": "Python 3"
    }
  },
  "cells": [
    {
      "cell_type": "markdown",
      "metadata": {
        "id": "dfyx6VaPnQL6",
        "colab_type": "text"
      },
      "source": [
        "# Generative Adverserial Network\n",
        "## An Introduction on 1-D Plane"
      ]
    },
    {
      "cell_type": "code",
      "metadata": {
        "id": "1cLdW5qWg2KZ",
        "colab_type": "code",
        "colab": {}
      },
      "source": [
        "from numpy import hstack\n",
        "from numpy import zeros\n",
        "from numpy import ones\n",
        "from numpy.random import rand\n",
        "from numpy.random import randn\n",
        "from keras.models import Sequential\n",
        "from keras.layers import Dense\n",
        "from keras.layers import LeakyReLU\n",
        "from matplotlib import pyplot"
      ],
      "execution_count": null,
      "outputs": []
    },
    {
      "cell_type": "markdown",
      "metadata": {
        "id": "LjV6XAcvncQ6",
        "colab_type": "text"
      },
      "source": [
        "## Type of Architecture Used\n",
        "\n",
        "GAN use 2 models binded Sequentially together\n",
        "1. Generator Model(Generates fake examples to fool)\n",
        "2. Discriminator Model(Identifies if the given input is real or fake)"
      ]
    },
    {
      "cell_type": "markdown",
      "metadata": {
        "id": "XRYBq7Ven8fY",
        "colab_type": "text"
      },
      "source": [
        "## **Discriminator Model**\n",
        "Differentiates whether the given input is real or fake.(Normal Binary Classification problem)\n",
        "1. A Dense Layer with 25 Nuerons. (LeakyReLU used as it is tested to get more stable answers)\n",
        "2. Sigmoid Function for Classification."
      ]
    },
    {
      "cell_type": "code",
      "metadata": {
        "id": "yEKZH3pig22L",
        "colab_type": "code",
        "colab": {}
      },
      "source": [
        "def define_discriminator(n_inputs=2):\n",
        "\tmodel = Sequential()\n",
        "\tmodel.add(Dense(25, kernel_initializer='he_uniform', input_dim=n_inputs))\n",
        "  model.add(LeakyReLU(alpha=0.05))\n",
        "\tmodel.add(Dense(1, activation='sigmoid'))\n",
        "\t# compile model\n",
        "\tmodel.compile(loss='binary_crossentropy', optimizer='adam', metrics=['accuracy'])\n",
        "\treturn model"
      ],
      "execution_count": null,
      "outputs": []
    },
    {
      "cell_type": "markdown",
      "metadata": {
        "id": "_TKL8fg8oiMo",
        "colab_type": "text"
      },
      "source": [
        "## **Generator Model**\n",
        "Generate fake examples good enough to fool discriminator. It takes input from something called latent dimension. Latent dimension has latent(hidden) points. We cannot compile this model yet.\n",
        "1. A Dense Layer with 15 Nuerons. (LeakyReLU used as it is tested to get more stable answers)\n",
        "2. Dense layer with Linear Function to generate examples."
      ]
    },
    {
      "cell_type": "code",
      "metadata": {
        "id": "2XJUaXr1g-GE",
        "colab_type": "code",
        "colab": {}
      },
      "source": [
        "def define_generator(latent_dim, n_outputs=2):\n",
        "\tmodel = Sequential()\n",
        "\tmodel.add(Dense(15, kernel_initializer='he_uniform', input_dim=latent_dim))\n",
        "\tmodel.add(LeakyReLU(alpha=0.05))\n",
        "\tmodel.add(Dense(n_outputs, activation='linear'))\n",
        "\treturn model"
      ],
      "execution_count": null,
      "outputs": []
    },
    {
      "cell_type": "markdown",
      "metadata": {
        "id": "dfOoB_pZpHHH",
        "colab_type": "text"
      },
      "source": [
        "## **Generative Adversarial Model**\n",
        "Stacks the Generator and discriminator sequentially. We dont have to train the Discriminator model here. We cannot train the generator individually as it depends on discriminator output. Generator is trained with the whole GAN model.\n",
        "1. Generator Model.\n",
        "2. Discriminator Model."
      ]
    },
    {
      "cell_type": "code",
      "metadata": {
        "id": "LVjcpckBg_pT",
        "colab_type": "code",
        "colab": {}
      },
      "source": [
        "def define_gan(generator, discriminator):\n",
        "\t# make weights in the discriminator not trainable\n",
        "\tdiscriminator.trainable = False\n",
        "\t# connect them\n",
        "\tmodel = Sequential()\n",
        "\t# add generator\n",
        "\tmodel.add(generator)\n",
        "\t# add the discriminator\n",
        "\tmodel.add(discriminator)\n",
        "\t# compile model\n",
        "\tmodel.compile(loss='binary_crossentropy', optimizer='adam')\n",
        "\treturn model"
      ],
      "execution_count": null,
      "outputs": []
    },
    {
      "cell_type": "markdown",
      "metadata": {
        "id": "EMHOQfUKp0Iy",
        "colab_type": "text"
      },
      "source": [
        "Function to generate real samples"
      ]
    },
    {
      "cell_type": "code",
      "metadata": {
        "id": "0XIXgXOAhBXh",
        "colab_type": "code",
        "colab": {}
      },
      "source": [
        "def generate_real_samples(n):\n",
        "\t# generate inputs in [-0.5, 0.5]\n",
        "\tX1 = rand(n) - 0.5\n",
        "\t# generate outputs X^2\n",
        "\tX2 = X1 * X1\n",
        "\t# stack arrays\n",
        "\tX1 = X1.reshape(n, 1)\n",
        "\tX2 = X2.reshape(n, 1)\n",
        "\tX = hstack((X1, X2))\n",
        "\t# generate class labels\n",
        "\ty = ones((n, 1))\n",
        "\treturn X, y"
      ],
      "execution_count": null,
      "outputs": []
    },
    {
      "cell_type": "markdown",
      "metadata": {
        "id": "3GlzMChFp4Y0",
        "colab_type": "text"
      },
      "source": [
        "Function to generate latent points. In this case, these points are random points."
      ]
    },
    {
      "cell_type": "code",
      "metadata": {
        "id": "KKUz13MahD5M",
        "colab_type": "code",
        "colab": {}
      },
      "source": [
        "def generate_latent_points(latent_dim, n):\n",
        "\t# generate points in the latent space\n",
        "\tx_input = randn(latent_dim * n)\n",
        "\t# reshape into a batch of inputs for the network\n",
        "\tx_input = x_input.reshape(n, latent_dim)\n",
        "\treturn x_input"
      ],
      "execution_count": null,
      "outputs": []
    },
    {
      "cell_type": "markdown",
      "metadata": {
        "id": "_ym-1CSyqFxt",
        "colab_type": "text"
      },
      "source": [
        "Fake examples are taken from latent space and fed to discriminator."
      ]
    },
    {
      "cell_type": "code",
      "metadata": {
        "id": "hjMn_WcHhF7A",
        "colab_type": "code",
        "colab": {}
      },
      "source": [
        "def generate_fake_samples(generator, latent_dim, n):\n",
        "\t# generate points in latent space\n",
        "\tx_input = generate_latent_points(latent_dim, n)\n",
        "\t# predict outputs\n",
        "\tX = generator.predict(x_input)\n",
        "\t# create class labels\n",
        "\ty = zeros((n, 1))\n",
        "\treturn X, y"
      ],
      "execution_count": null,
      "outputs": []
    },
    {
      "cell_type": "markdown",
      "metadata": {
        "id": "NyCyNLvbqUa6",
        "colab_type": "text"
      },
      "source": [
        "Function to tell the performance."
      ]
    },
    {
      "cell_type": "code",
      "metadata": {
        "id": "TRGXZ_0ThILi",
        "colab_type": "code",
        "colab": {}
      },
      "source": [
        "def summarize_performance(epoch, generator, discriminator, latent_dim, n=100):\n",
        "\t# prepare real samples\n",
        "\tx_real, y_real = generate_real_samples(n)\n",
        "\t# evaluate discriminator on real examples\n",
        "\t_, acc_real = discriminator.evaluate(x_real, y_real, verbose=0)\n",
        "\t# prepare fake examples\n",
        "\tx_fake, y_fake = generate_fake_samples(generator, latent_dim, n)\n",
        "\t# evaluate discriminator on fake examples\n",
        "\t_, acc_fake = discriminator.evaluate(x_fake, y_fake, verbose=0)\n",
        "\t# summarize discriminator performance\n",
        "\tprint(epoch, acc_real, acc_fake)\n",
        "\t# scatter plot real and fake data points\n",
        "\tpyplot.scatter(x_real[:, 0], x_real[:, 1], color='red')\n",
        "\tpyplot.scatter(x_fake[:, 0], x_fake[:, 1], color='blue')\n",
        "\tpyplot.show()"
      ],
      "execution_count": null,
      "outputs": []
    },
    {
      "cell_type": "markdown",
      "metadata": {
        "id": "JiC1Gr9KqXeU",
        "colab_type": "text"
      },
      "source": [
        "Train the whole GAN Model while separately training discriminator model."
      ]
    },
    {
      "cell_type": "code",
      "metadata": {
        "id": "HP7YvCPGhKpi",
        "colab_type": "code",
        "colab": {}
      },
      "source": [
        "def train(g_model, d_model, gan_model, latent_dim, n_epochs=10000, n_batch=128, n_eval=2000):\n",
        "\t# determine half the size of one batch, for updating the discriminator\n",
        "\thalf_batch = int(n_batch / 2)\n",
        "\t# manually enumerate epochs\n",
        "\tfor i in range(n_epochs):\n",
        "\t\t# prepare real samples\n",
        "\t\tx_real, y_real = generate_real_samples(half_batch)\n",
        "\t\t# prepare fake examples\n",
        "\t\tx_fake, y_fake = generate_fake_samples(g_model, latent_dim, half_batch)\n",
        "\t\t# update discriminator\n",
        "\t\td_model.train_on_batch(x_real, y_real)\n",
        "\t\td_model.train_on_batch(x_fake, y_fake)\n",
        "\t\t# prepare points in latent space as input for the generator\n",
        "\t\tx_gan = generate_latent_points(latent_dim, n_batch)\n",
        "\t\t# create inverted labels for the fake samples\n",
        "\t\ty_gan = ones((n_batch, 1))\n",
        "\t\t# update the generator via the discriminator's error\n",
        "\t\tgan_model.train_on_batch(x_gan, y_gan)\n",
        "\t\t# evaluate the model every n_eval epochs\n",
        "\t\tif (i+1) % n_eval == 0:\n",
        "\t\t\tsummarize_performance(i, g_model, d_model, latent_dim)"
      ],
      "execution_count": null,
      "outputs": []
    },
    {
      "cell_type": "code",
      "metadata": {
        "id": "qk7EPBLThNBS",
        "colab_type": "code",
        "colab": {
          "base_uri": "https://localhost:8080/",
          "height": 1000
        },
        "outputId": "904946f1-4f37-48f2-8078-6e9eaa127eab"
      },
      "source": [
        "# size of the latent space\n",
        "latent_dim = 5\n",
        "# create the discriminator\n",
        "discriminator = define_discriminator()\n",
        "# create the generator\n",
        "generator = define_generator(latent_dim)\n",
        "# create the gan\n",
        "gan_model = define_gan(generator, discriminator)\n",
        "# train model\n",
        "train(generator, discriminator, gan_model, latent_dim)"
      ],
      "execution_count": null,
      "outputs": [
        {
          "output_type": "stream",
          "text": [
            "/usr/local/lib/python3.6/dist-packages/keras/engine/training.py:297: UserWarning: Discrepancy between trainable weights and collected trainable weights, did you set `model.trainable` without calling `model.compile` after ?\n",
            "  'Discrepancy between trainable weights and collected trainable'\n"
          ],
          "name": "stderr"
        },
        {
          "output_type": "stream",
          "text": [
            "1999 0.6499999761581421 0.7900000214576721\n"
          ],
          "name": "stdout"
        },
        {
          "output_type": "display_data",
          "data": {
            "image/png": "[encoded data removed]",
            "text/plain": [
              "<Figure size 432x288 with 1 Axes>"
            ]
          },
          "metadata": {
            "tags": [],
            "needs_background": "light"
          }
        },
        {
          "output_type": "stream",
          "text": [
            "3999 0.4099999964237213 0.6100000143051147\n"
          ],
          "name": "stdout"
        },
        {
          "output_type": "display_data",
          "data": {
            "image/png": "[encoded data removed]",
            "text/plain": [
              "<Figure size 432x288 with 1 Axes>"
            ]
          },
          "metadata": {
            "tags": [],
            "needs_background": "light"
          }
        },
        {
          "output_type": "stream",
          "text": [
            "5999 0.11999999731779099 0.7699999809265137\n"
          ],
          "name": "stdout"
        },
        {
          "output_type": "display_data",
          "data": {
            "image/png": "[encoded data removed]",
            "text/plain": [
              "<Figure size 432x288 with 1 Axes>"
            ]
          },
          "metadata": {
            "tags": [],
            "needs_background": "light"
          }
        },
        {
          "output_type": "stream",
          "text": [
            "7999 0.6800000071525574 0.3799999952316284\n"
          ],
          "name": "stdout"
        },
        {
          "output_type": "display_data",
          "data": {
            "image/png": "[encoded data removed]",
            "text/plain": [
              "<Figure size 432x288 with 1 Axes>"
            ]
          },
          "metadata": {
            "tags": [],
            "needs_background": "light"
          }
        },
        {
          "output_type": "stream",
          "text": [
            "9999 0.5899999737739563 0.46000000834465027\n"
          ],
          "name": "stdout"
        },
        {
          "output_type": "display_data",
          "data": {
            "image/png": "[encoded data removed]",
            "text/plain": [
              "<Figure size 432x288 with 1 Axes>"
            ]
          },
          "metadata": {
            "tags": [],
            "needs_background": "light"
          }
        }
      ]
    },
    {
      "cell_type": "code",
      "metadata": {
        "id": "wSZGxXGBhPIs",
        "colab_type": "code",
        "colab": {}
      },
      "source": [
        ""
      ],
      "execution_count": null,
      "outputs": []
    }
  ]
}